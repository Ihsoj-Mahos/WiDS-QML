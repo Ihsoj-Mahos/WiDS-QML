{
  "nbformat": 4,
  "nbformat_minor": 0,
  "metadata": {
    "colab": {
      "provenance": []
    },
    "kernelspec": {
      "name": "python3",
      "display_name": "Python 3"
    },
    "language_info": {
      "name": "python"
    }
  },
  "cells": [
    {
      "cell_type": "markdown",
      "source": [
        "This is my solution to assignment 1 of the WiDS Project : Learning with quantum computers. The link of the problem statement is [this](https://github.com/siddhant-midha/WiDS-22-Learning-with-quantum-computers-/blob/main/problems/set1.md)"
      ],
      "metadata": {
        "id": "RBPGtJsASJov"
      }
    },
    {
      "cell_type": "markdown",
      "source": [
        "# **Quick installation commands**"
      ],
      "metadata": {
        "id": "uvLIfMr7PCUl"
      }
    },
    {
      "cell_type": "code",
      "source": [
        "!pip install qiskit\n",
        "!pip install git+https://github.com/qiskit-community/qiskit-textbook.git#subdirectory=qiskit-textbook-src\n",
        "!pip install pylatexenc"
      ],
      "metadata": {
        "id": "R3itM-O1O6Nm"
      },
      "execution_count": null,
      "outputs": []
    },
    {
      "cell_type": "markdown",
      "source": [
        "# **Importing libraries**"
      ],
      "metadata": {
        "id": "J6knImDcPWTt"
      }
    },
    {
      "cell_type": "code",
      "source": [
        "# Importing numpy\n",
        "import numpy as np\n",
        "\n",
        "# Analysis tools\n",
        "from qiskit import QuantumCircuit, assemble, Aer\n",
        "from qiskit.visualization import plot_histogram, plot_bloch_vector\n",
        "from math import sqrt, pi"
      ],
      "metadata": {
        "id": "bzy_-0L6PIe6"
      },
      "execution_count": 1,
      "outputs": []
    },
    {
      "cell_type": "markdown",
      "source": [
        "## **Oracles**\n",
        "\n",
        "Before we can even begin to adress the Deutsch-Jozsa problem, we need to construct the black-box functions or the \"oracles\" which are unknown to the algorithm we will design in order to solve the problem."
      ],
      "metadata": {
        "id": "R_rJftKqRrjo"
      }
    },
    {
      "cell_type": "markdown",
      "source": [
        "# *Constructing the constant oracle*"
      ],
      "metadata": {
        "id": "0iW22mm9Sgi8"
      }
    },
    {
      "cell_type": "code",
      "source": [
        "class constant_oracle : \n",
        "    \n",
        "    def __init__(self, n) : \n",
        "        self.n = n\n",
        "        self.output = np.random.randint(2)\n",
        "        self.draw(\"0\"*n)\n",
        "\n",
        "    def draw(self, input) : \n",
        "        '''\n",
        "        Returns a draw from the constant oracle\n",
        "        '''\n",
        "        self.const_oracle = QuantumCircuit(self.n+1, self.n+1)\n",
        "        \n",
        "        if self.output == 1:\n",
        "            self.const_oracle.x(self.n)\n",
        "        self.const_oracle.measure(self.n,0)\n",
        "\n",
        "        sim = Aer.get_backend('aer_simulator') \n",
        "        result = sim.run(self.const_oracle).result()\n",
        "        return list(result.get_counts().keys())[0]\n"
      ],
      "metadata": {
        "id": "RDXbqid6Skzx"
      },
      "execution_count": 2,
      "outputs": []
    },
    {
      "cell_type": "markdown",
      "source": [
        "# *Constructing the balanced oracle*\n",
        "\n",
        "For this we use the simple fact that the xor of uniform random distributions is jsut another uniform random distribution. Hence, taking xor of all bits is enough to obtain a balanced oracle"
      ],
      "metadata": {
        "id": "0n7wEH6PTabK"
      }
    },
    {
      "cell_type": "code",
      "source": [
        "class balanced_oracle : \n",
        "\n",
        "    def __init__(self, n) : \n",
        "        self.n = n\n",
        "        self.draw(\"0\"*n)\n",
        "        \n",
        "\n",
        "    def draw(self, input) : \n",
        "        '''\n",
        "        Returns a draw from the balanced oracle\n",
        "        '''\n",
        "        self.balanced_oracle = QuantumCircuit(self.n+1, self.n+1)\n",
        "\n",
        "        # Place X-gates\n",
        "        for qubit in range(len(input)):\n",
        "            if input[qubit] == '1':\n",
        "                self.balanced_oracle.x(qubit)\n",
        "\n",
        "        # Use barrier as divider\n",
        "        self.balanced_oracle.barrier()\n",
        "\n",
        "        # Controlled-NOT gates\n",
        "        for qubit in range(self.n):\n",
        "            self.balanced_oracle.cx(qubit, self.n)\n",
        "\n",
        "        self.balanced_oracle.barrier()\n",
        "\n",
        "        # Place X-gates\n",
        "        for qubit in range(len(input)):\n",
        "            if input[qubit] == '1':\n",
        "                self.balanced_oracle.x(qubit)\n",
        "\n",
        "        self.balanced_oracle.measure(self.n, 0)\n",
        "\n",
        "        sim = Aer.get_backend('aer_simulator') \n",
        "        result = sim.run(self.balanced_oracle).result()\n",
        "        return list(result.get_counts().keys())[0]\n",
        "    \n",
        "\n",
        "\n"
      ],
      "metadata": {
        "id": "Hi4cjtUbTLUu"
      },
      "execution_count": 3,
      "outputs": []
    },
    {
      "cell_type": "markdown",
      "source": [
        "# *Running both oracles*"
      ],
      "metadata": {
        "id": "LroL-Q0rVYXE"
      }
    },
    {
      "cell_type": "markdown",
      "source": [
        "**Constant Oracle**"
      ],
      "metadata": {
        "id": "EH8duoE9XOVg"
      }
    },
    {
      "cell_type": "code",
      "source": [
        "oracle = constant_oracle(3)\n",
        "oracle.draw(\"101\")"
      ],
      "metadata": {
        "colab": {
          "base_uri": "https://localhost:8080/",
          "height": 35
        },
        "id": "fGocEEcaUAu1",
        "outputId": "ff1accfb-d97a-49cd-dbea-11dfaa953642"
      },
      "execution_count": 17,
      "outputs": [
        {
          "output_type": "execute_result",
          "data": {
            "text/plain": [
              "'0001'"
            ],
            "application/vnd.google.colaboratory.intrinsic+json": {
              "type": "string"
            }
          },
          "metadata": {},
          "execution_count": 17
        }
      ]
    },
    {
      "cell_type": "markdown",
      "source": [
        "**Balanced oracle**"
      ],
      "metadata": {
        "id": "0OpuX3w5XVuh"
      }
    },
    {
      "cell_type": "code",
      "source": [
        "oracle = balanced_oracle(3)\n",
        "oracle.draw(\"101\")"
      ],
      "metadata": {
        "colab": {
          "base_uri": "https://localhost:8080/",
          "height": 35
        },
        "id": "IDoVvjpVVnUx",
        "outputId": "87cd0af3-a465-45d1-9e8d-d073778616f7"
      },
      "execution_count": 7,
      "outputs": [
        {
          "output_type": "execute_result",
          "data": {
            "text/plain": [
              "'0000'"
            ],
            "application/vnd.google.colaboratory.intrinsic+json": {
              "type": "string"
            }
          },
          "metadata": {},
          "execution_count": 7
        }
      ]
    },
    {
      "cell_type": "markdown",
      "source": [
        "# **Part 1 : Deterministic Algorithm**\n",
        "\n",
        "In this section, I shall present a deterministic algorithm to solve the Deutsch-Jozsa problem. The algorithm relies upon querying the previously defined black boxes $ 2^{n-1} + 1$ times. (where n is the number of input bits)"
      ],
      "metadata": {
        "id": "kgov2nfmXyIm"
      }
    },
    {
      "cell_type": "code",
      "source": [
        "def classical_algo(f, n) : \n",
        "    '''\n",
        "    Input : A function f, number of bits in the input n (natural number)\n",
        "    Returns : A boolean (true if the function is balanced)\n",
        "    '''\n",
        "    header = \"0\"*n\n",
        "    val = f(header)\n",
        "    for i in range(1, 2**(n-1) + 2) :\n",
        "        num = bin(i).replace(\"0b\", \"\")\n",
        "        input = (header + num)[-n:] \n",
        "        if f(input) != val : \n",
        "            return True\n",
        "\n",
        "    return False"
      ],
      "metadata": {
        "id": "9D4c_uE4YPDV"
      },
      "execution_count": 10,
      "outputs": []
    },
    {
      "cell_type": "markdown",
      "source": [
        "Now, we shall test this algorithm for both cases namely : \n",
        "* Constant oracle\n",
        "* Balanced oracle\n",
        "Taking functions $f : \\{0, 1\\}^3 \\to \\{0, 1\\}$"
      ],
      "metadata": {
        "id": "eHx3zNnldEOD"
      }
    },
    {
      "cell_type": "code",
      "source": [
        "# Number of input bits \n",
        "N = 3\n",
        "\n",
        "# First, constructing a constant oracle\n",
        "oracle = constant_oracle(N)\n",
        "if classical_algo(oracle.draw, N) : print(\"Balanced oracle\")\n",
        "else : print(\"Constant oracle\")\n"
      ],
      "metadata": {
        "colab": {
          "base_uri": "https://localhost:8080/"
        },
        "id": "XKfnISxuc039",
        "outputId": "333cc72f-52a6-4996-97c7-f1ae6f2a8079"
      },
      "execution_count": 11,
      "outputs": [
        {
          "output_type": "stream",
          "name": "stdout",
          "text": [
            "Constant oracle\n"
          ]
        }
      ]
    },
    {
      "cell_type": "code",
      "source": [
        "# Next, constructing a balanced oracle\n",
        "oracle = balanced_oracle(N)\n",
        "if classical_algo(oracle.draw, N) : print(\"Balanced oracle\")\n",
        "else : print(\"Constant oracle\")"
      ],
      "metadata": {
        "colab": {
          "base_uri": "https://localhost:8080/"
        },
        "id": "gbMjcHd9eR1b",
        "outputId": "3da4bab6-20bd-45aa-b0c6-810db2a87224"
      },
      "execution_count": 12,
      "outputs": [
        {
          "output_type": "stream",
          "name": "stdout",
          "text": [
            "Balanced oracle\n"
          ]
        }
      ]
    },
    {
      "cell_type": "markdown",
      "source": [
        "Hence, we are done with the classical deterministic algorithm for this problem."
      ],
      "metadata": {
        "id": "WgNT2l-se17d"
      }
    },
    {
      "cell_type": "markdown",
      "source": [
        "# **Part 2 : Algorithm using Quantum circuits**\n",
        "\n",
        "Next, we shall implement the Deutsch-Jozsa algorithm as presented [here](https://qiskit.org/textbook/ch-algorithms/deutsch-jozsa.html)"
      ],
      "metadata": {
        "id": "ZcKlzvbse8Ve"
      }
    },
    {
      "cell_type": "code",
      "source": [
        "from numpy.lib.twodim_base import triu_indices_from\n",
        "def dj_algo(oracle, n) :\n",
        "    '''\n",
        "    Input : A function f, number of bits in the input n (natural number)\n",
        "    Returns : A boolean (true if the function is balanced)\n",
        "    ''' \n",
        "\n",
        "    dj_ckt = QuantumCircuit(n+1, n+1)  \n",
        "    # The last bit should be a 1\n",
        "    dj_ckt.x(n)\n",
        "    for i in range(n+1) : \n",
        "      dj_ckt.h(i)\n",
        "\n",
        "    dj_ckt.compose(oracle, inplace = True)\n",
        "\n",
        "    # Applying H gates again\n",
        "    for i in range(n) : \n",
        "      dj_ckt.h(i)\n",
        "\n",
        "    # Measuring the first n qubits\n",
        "    for i in range(n) : \n",
        "      dj_ckt.measure(i, i+1)\n",
        "    \n",
        "    sim = Aer.get_backend('aer_simulator') \n",
        "    result = sim.run(dj_ckt).result()\n",
        "    keys = list(result.get_counts().keys())\n",
        "\n",
        "    if \"0\" + \"0\"*n in keys : \n",
        "        return False\n",
        "    elif \"1\" + \"0\"*n in keys : \n",
        "        return False\n",
        "    else : \n",
        "        return True"
      ],
      "metadata": {
        "id": "_7O9R7_meyXb"
      },
      "execution_count": 13,
      "outputs": []
    },
    {
      "cell_type": "markdown",
      "source": [
        "Now, let's test this for both algorithms"
      ],
      "metadata": {
        "id": "Nfbt8vPfQvzG"
      }
    },
    {
      "cell_type": "code",
      "source": [
        "oracle = balanced_oracle(N).balanced_oracle\n",
        "result = dj_algo(oracle, N)\n",
        "\n",
        "if result : print(\"Balanced oracle\")\n",
        "else : print(\"Constant oracle\")"
      ],
      "metadata": {
        "colab": {
          "base_uri": "https://localhost:8080/"
        },
        "id": "-MVmBgllQvOO",
        "outputId": "3e8509f8-05f2-4e82-9919-187a22273f63"
      },
      "execution_count": 14,
      "outputs": [
        {
          "output_type": "stream",
          "name": "stdout",
          "text": [
            "Balanced oracle\n"
          ]
        }
      ]
    },
    {
      "cell_type": "code",
      "source": [
        "oracle = constant_oracle(N).const_oracle\n",
        "oracle.draw()\n",
        "result = dj_algo(oracle, N)\n",
        "\n",
        "if result : print(\"Balanced oracle\")\n",
        "else : print(\"Constant oracle\")"
      ],
      "metadata": {
        "colab": {
          "base_uri": "https://localhost:8080/"
        },
        "id": "ZCWrSKJHRjnl",
        "outputId": "fa51c969-c77e-4098-83b6-a780294b0c55"
      },
      "execution_count": 15,
      "outputs": [
        {
          "output_type": "stream",
          "name": "stdout",
          "text": [
            "Constant oracle\n"
          ]
        }
      ]
    },
    {
      "cell_type": "markdown",
      "source": [
        "Hence, we see that the deutch-josza algorithm also computes the results correctly."
      ],
      "metadata": {
        "id": "9b0m6iXZWDsk"
      }
    },
    {
      "cell_type": "markdown",
      "source": [
        "# **Part 3 : Randomised Classical Algorithm**\n",
        "\n",
        "In this section, we shall make random draws from the domain space and compute the probability of the oracle being balanced or constant. Now, let us compute the probabilities.\n",
        "\\begin{equation}\n",
        "P(balanced|data) = \\frac{P(balanced, data)}{P(data)} \\\\ \n",
        "\\end{equation}\n",
        "If any two output bits are different, we are done. If not, let us calculate the probability of that happening for $n$ draws.\n",
        "\\begin{equation}\n",
        "P(00{}_{\\cdots}0) = \\frac{1}{2}.\\frac{1}{2} + \\frac{1}{2}.\\frac{1}{2^n}\n",
        "\\end{equation}\n",
        "\\begin{equation}\n",
        "P(balanced|data) = \\frac{\\frac{1}{2^n}}{\\frac{1}{2} + \\frac{1}{2^n}}\n",
        "= \\frac{1}{1+2^{n-1}}\n",
        "\\end{equation}\n",
        "\n",
        "We will use this equation to estimate the minimum $n$ required to gain the required confidence. \n",
        "\\begin{equation}\n",
        "\\frac{1}{1+2^{n-1}} < \\epsilon \\\\\n",
        "\\Rightarrow \\frac{1}{\\epsilon} < 1 + 2^{n-1} \\\\ \n",
        "\\Rightarrow log_{2}(\\frac{1}{\\epsilon} - 1) + 1 < n \\\\\n",
        "\\Rightarrow n = ceil(log_{2}(\\frac{1}{\\epsilon} - 1) + 1)\n",
        "\\end{equation}"
      ],
      "metadata": {
        "id": "XgchCUvyWTm5"
      }
    },
    {
      "cell_type": "code",
      "source": [
        "def randomised_algo(f, n, acc) : \n",
        "    '''\n",
        "    Input : A function f, number of bits in the input n (natural number)\n",
        "    Returns : A boolean (true if the function is balanced)\n",
        "    ''' \n",
        "    eps = 1 - acc\n",
        "    n = int(np.ceil(np.log2(1/eps - 1) + 1))\n",
        "    header = \"0\"*n\n",
        "    num = np.random.randint(1, 2**n)\n",
        "    num = bin(num).replace(\"0b\", \"\")\n",
        "    input = (header + num)[-n:]\n",
        "    results = [f(input)[-1]]\n",
        "\n",
        "    for i in range(n-1) : \n",
        "    \n",
        "        num = np.random.randint(1, 2**n)\n",
        "        num = bin(num).replace(\"0b\", \"\")\n",
        "        input = (header + num)[-n:]\n",
        "\n",
        "        if f(input)[-1] not in results : \n",
        "            return True\n",
        "    \n",
        "    return False\n"
      ],
      "metadata": {
        "id": "xYqS4nTIc8e4"
      },
      "execution_count": 21,
      "outputs": []
    },
    {
      "cell_type": "markdown",
      "source": [
        "Now, putting this in action"
      ],
      "metadata": {
        "id": "EA3FsfdUfd_f"
      }
    },
    {
      "cell_type": "code",
      "source": [
        "oracle = balanced_oracle(N)\n",
        "result = randomised_algo(oracle.draw, N, 0.8)\n",
        "\n",
        "if result : print(\"Balanced oracle\")\n",
        "else : print(\"Constant oracle\")"
      ],
      "metadata": {
        "colab": {
          "base_uri": "https://localhost:8080/"
        },
        "id": "3hUwW_06fdHN",
        "outputId": "d0cce71b-e064-49a3-a75a-6dbefaf78230"
      },
      "execution_count": 23,
      "outputs": [
        {
          "output_type": "stream",
          "name": "stdout",
          "text": [
            "Balanced oracle\n"
          ]
        }
      ]
    },
    {
      "cell_type": "code",
      "source": [
        "oracle = constant_oracle(N)\n",
        "result = randomised_algo(oracle.draw, N, 0.8)\n",
        "\n",
        "if result : print(\"Balanced oracle\")\n",
        "else : print(\"Constant oracle\")"
      ],
      "metadata": {
        "colab": {
          "base_uri": "https://localhost:8080/"
        },
        "id": "YL3b355HflUf",
        "outputId": "8fd09aef-8265-4f6e-8038-b9645bc7acd8"
      },
      "execution_count": 25,
      "outputs": [
        {
          "output_type": "stream",
          "name": "stdout",
          "text": [
            "Constant oracle\n"
          ]
        }
      ]
    },
    {
      "cell_type": "markdown",
      "source": [
        "As we can see, the outputs again match with what is expected."
      ],
      "metadata": {
        "id": "hGJLjn-wgVQi"
      }
    }
  ]
}