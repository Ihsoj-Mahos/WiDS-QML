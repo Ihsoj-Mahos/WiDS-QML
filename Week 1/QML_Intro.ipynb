{
  "nbformat": 4,
  "nbformat_minor": 0,
  "metadata": {
    "colab": {
      "provenance": []
    },
    "kernelspec": {
      "name": "python3",
      "display_name": "Python 3"
    },
    "language_info": {
      "name": "python"
    },
    "widgets": {
      "application/vnd.jupyter.widget-state+json": {
        "5ae4dbdb8b3242e9865e03dd28ac3202": {
          "model_module": "@jupyter-widgets/controls",
          "model_name": "VBoxModel",
          "model_module_version": "1.5.0",
          "state": {
            "_dom_classes": [],
            "_model_module": "@jupyter-widgets/controls",
            "_model_module_version": "1.5.0",
            "_model_name": "VBoxModel",
            "_view_count": null,
            "_view_module": "@jupyter-widgets/controls",
            "_view_module_version": "1.5.0",
            "_view_name": "VBoxView",
            "box_style": "",
            "children": [
              "IPY_MODEL_59d615cfab0d44ba98e3d703e15af16f",
              "IPY_MODEL_df93bdc4551e43bab5fbe43079a588a9",
              "IPY_MODEL_5b7b7c6341cd487c9160ee21f9d4183e"
            ],
            "layout": "IPY_MODEL_67112868e75345d4a8ca73659b120d13"
          }
        },
        "59d615cfab0d44ba98e3d703e15af16f": {
          "model_module": "@jupyter-widgets/controls",
          "model_name": "LabelModel",
          "model_module_version": "1.5.0",
          "state": {
            "_dom_classes": [],
            "_model_module": "@jupyter-widgets/controls",
            "_model_module_version": "1.5.0",
            "_model_name": "LabelModel",
            "_view_count": null,
            "_view_module": "@jupyter-widgets/controls",
            "_view_module_version": "1.5.0",
            "_view_name": "LabelView",
            "description": "",
            "description_tooltip": null,
            "layout": "IPY_MODEL_fa0b04d12f8a47e294bca083b08db059",
            "placeholder": "​",
            "style": "IPY_MODEL_9c9f7584f3174a288a1eecd1299e8fbc",
            "value": "Toggle the bits below to change the binary number."
          }
        },
        "df93bdc4551e43bab5fbe43079a588a9": {
          "model_module": "@jupyter-widgets/controls",
          "model_name": "LabelModel",
          "model_module_version": "1.5.0",
          "state": {
            "_dom_classes": [],
            "_model_module": "@jupyter-widgets/controls",
            "_model_module_version": "1.5.0",
            "_model_name": "LabelModel",
            "_view_count": null,
            "_view_module": "@jupyter-widgets/controls",
            "_view_module_version": "1.5.0",
            "_view_name": "LabelView",
            "description": "",
            "description_tooltip": null,
            "layout": "IPY_MODEL_7264310e1f6b49cc88e35ad4f7e809b4",
            "placeholder": "​",
            "style": "IPY_MODEL_afa5e93b6a4a4710ba3bf61dae4792d8",
            "value": "Think of a number between 0 and 31 and try to write it down in binary."
          }
        },
        "5b7b7c6341cd487c9160ee21f9d4183e": {
          "model_module": "@jupyter-widgets/controls",
          "model_name": "HBoxModel",
          "model_module_version": "1.5.0",
          "state": {
            "_dom_classes": [],
            "_model_module": "@jupyter-widgets/controls",
            "_model_module_version": "1.5.0",
            "_model_name": "HBoxModel",
            "_view_count": null,
            "_view_module": "@jupyter-widgets/controls",
            "_view_module_version": "1.5.0",
            "_view_name": "HBoxView",
            "box_style": "",
            "children": [
              "IPY_MODEL_0b38b1af357a4393a5ea545be6ddf759",
              "IPY_MODEL_aec56530e04243a7a18f0df07cdff9d6",
              "IPY_MODEL_308b9a292eee4f2fbf1924ed3690f1a2",
              "IPY_MODEL_c917c3431d7e4d1e962b13ff326f89bc",
              "IPY_MODEL_e190ea4acf0d454fab03e26eacfdedea"
            ],
            "layout": "IPY_MODEL_d1e531ea16884858af1c1d4fae6ced62"
          }
        },
        "67112868e75345d4a8ca73659b120d13": {
          "model_module": "@jupyter-widgets/base",
          "model_name": "LayoutModel",
          "model_module_version": "1.2.0",
          "state": {
            "_model_module": "@jupyter-widgets/base",
            "_model_module_version": "1.2.0",
            "_model_name": "LayoutModel",
            "_view_count": null,
            "_view_module": "@jupyter-widgets/base",
            "_view_module_version": "1.2.0",
            "_view_name": "LayoutView",
            "align_content": null,
            "align_items": null,
            "align_self": null,
            "border": null,
            "bottom": null,
            "display": null,
            "flex": null,
            "flex_flow": null,
            "grid_area": null,
            "grid_auto_columns": null,
            "grid_auto_flow": null,
            "grid_auto_rows": null,
            "grid_column": null,
            "grid_gap": null,
            "grid_row": null,
            "grid_template_areas": null,
            "grid_template_columns": null,
            "grid_template_rows": null,
            "height": null,
            "justify_content": null,
            "justify_items": null,
            "left": null,
            "margin": null,
            "max_height": null,
            "max_width": null,
            "min_height": null,
            "min_width": null,
            "object_fit": null,
            "object_position": null,
            "order": null,
            "overflow": null,
            "overflow_x": null,
            "overflow_y": null,
            "padding": null,
            "right": null,
            "top": null,
            "visibility": null,
            "width": null
          }
        },
        "fa0b04d12f8a47e294bca083b08db059": {
          "model_module": "@jupyter-widgets/base",
          "model_name": "LayoutModel",
          "model_module_version": "1.2.0",
          "state": {
            "_model_module": "@jupyter-widgets/base",
            "_model_module_version": "1.2.0",
            "_model_name": "LayoutModel",
            "_view_count": null,
            "_view_module": "@jupyter-widgets/base",
            "_view_module_version": "1.2.0",
            "_view_name": "LayoutView",
            "align_content": null,
            "align_items": null,
            "align_self": null,
            "border": null,
            "bottom": null,
            "display": null,
            "flex": null,
            "flex_flow": null,
            "grid_area": null,
            "grid_auto_columns": null,
            "grid_auto_flow": null,
            "grid_auto_rows": null,
            "grid_column": null,
            "grid_gap": null,
            "grid_row": null,
            "grid_template_areas": null,
            "grid_template_columns": null,
            "grid_template_rows": null,
            "height": null,
            "justify_content": null,
            "justify_items": null,
            "left": null,
            "margin": null,
            "max_height": null,
            "max_width": null,
            "min_height": null,
            "min_width": null,
            "object_fit": null,
            "object_position": null,
            "order": null,
            "overflow": null,
            "overflow_x": null,
            "overflow_y": null,
            "padding": null,
            "right": null,
            "top": null,
            "visibility": null,
            "width": null
          }
        },
        "9c9f7584f3174a288a1eecd1299e8fbc": {
          "model_module": "@jupyter-widgets/controls",
          "model_name": "DescriptionStyleModel",
          "model_module_version": "1.5.0",
          "state": {
            "_model_module": "@jupyter-widgets/controls",
            "_model_module_version": "1.5.0",
            "_model_name": "DescriptionStyleModel",
            "_view_count": null,
            "_view_module": "@jupyter-widgets/base",
            "_view_module_version": "1.2.0",
            "_view_name": "StyleView",
            "description_width": ""
          }
        },
        "7264310e1f6b49cc88e35ad4f7e809b4": {
          "model_module": "@jupyter-widgets/base",
          "model_name": "LayoutModel",
          "model_module_version": "1.2.0",
          "state": {
            "_model_module": "@jupyter-widgets/base",
            "_model_module_version": "1.2.0",
            "_model_name": "LayoutModel",
            "_view_count": null,
            "_view_module": "@jupyter-widgets/base",
            "_view_module_version": "1.2.0",
            "_view_name": "LayoutView",
            "align_content": null,
            "align_items": null,
            "align_self": null,
            "border": null,
            "bottom": null,
            "display": null,
            "flex": null,
            "flex_flow": null,
            "grid_area": null,
            "grid_auto_columns": null,
            "grid_auto_flow": null,
            "grid_auto_rows": null,
            "grid_column": null,
            "grid_gap": null,
            "grid_row": null,
            "grid_template_areas": null,
            "grid_template_columns": null,
            "grid_template_rows": null,
            "height": null,
            "justify_content": null,
            "justify_items": null,
            "left": null,
            "margin": null,
            "max_height": null,
            "max_width": null,
            "min_height": null,
            "min_width": null,
            "object_fit": null,
            "object_position": null,
            "order": null,
            "overflow": null,
            "overflow_x": null,
            "overflow_y": null,
            "padding": null,
            "right": null,
            "top": null,
            "visibility": null,
            "width": null
          }
        },
        "afa5e93b6a4a4710ba3bf61dae4792d8": {
          "model_module": "@jupyter-widgets/controls",
          "model_name": "DescriptionStyleModel",
          "model_module_version": "1.5.0",
          "state": {
            "_model_module": "@jupyter-widgets/controls",
            "_model_module_version": "1.5.0",
            "_model_name": "DescriptionStyleModel",
            "_view_count": null,
            "_view_module": "@jupyter-widgets/base",
            "_view_module_version": "1.2.0",
            "_view_name": "StyleView",
            "description_width": ""
          }
        },
        "0b38b1af357a4393a5ea545be6ddf759": {
          "model_module": "@jupyter-widgets/controls",
          "model_name": "ToggleButtonModel",
          "model_module_version": "1.5.0",
          "state": {
            "_dom_classes": [],
            "_model_module": "@jupyter-widgets/controls",
            "_model_module_version": "1.5.0",
            "_model_name": "ToggleButtonModel",
            "_view_count": null,
            "_view_module": "@jupyter-widgets/controls",
            "_view_module_version": "1.5.0",
            "_view_name": "ToggleButtonView",
            "button_style": "",
            "description": "16",
            "description_tooltip": null,
            "disabled": false,
            "icon": "",
            "layout": "IPY_MODEL_a693c5e363754cca988eddf161a6dada",
            "style": "IPY_MODEL_5740731365994b8691f964bf4c7f0f41",
            "tooltip": "",
            "value": false
          }
        },
        "aec56530e04243a7a18f0df07cdff9d6": {
          "model_module": "@jupyter-widgets/controls",
          "model_name": "ToggleButtonModel",
          "model_module_version": "1.5.0",
          "state": {
            "_dom_classes": [],
            "_model_module": "@jupyter-widgets/controls",
            "_model_module_version": "1.5.0",
            "_model_name": "ToggleButtonModel",
            "_view_count": null,
            "_view_module": "@jupyter-widgets/controls",
            "_view_module_version": "1.5.0",
            "_view_name": "ToggleButtonView",
            "button_style": "",
            "description": "8",
            "description_tooltip": null,
            "disabled": false,
            "icon": "",
            "layout": "IPY_MODEL_de012241c5c640e7b9649c3d6ed6cf29",
            "style": "IPY_MODEL_1a73abffd83947a98c32cd78f2376f5c",
            "tooltip": "",
            "value": true
          }
        },
        "308b9a292eee4f2fbf1924ed3690f1a2": {
          "model_module": "@jupyter-widgets/controls",
          "model_name": "ToggleButtonModel",
          "model_module_version": "1.5.0",
          "state": {
            "_dom_classes": [],
            "_model_module": "@jupyter-widgets/controls",
            "_model_module_version": "1.5.0",
            "_model_name": "ToggleButtonModel",
            "_view_count": null,
            "_view_module": "@jupyter-widgets/controls",
            "_view_module_version": "1.5.0",
            "_view_name": "ToggleButtonView",
            "button_style": "",
            "description": "4",
            "description_tooltip": null,
            "disabled": false,
            "icon": "",
            "layout": "IPY_MODEL_01002be9d31e474ba6a8a2c77f666877",
            "style": "IPY_MODEL_c2ee5393173c455e8d64815475374492",
            "tooltip": "",
            "value": false
          }
        },
        "c917c3431d7e4d1e962b13ff326f89bc": {
          "model_module": "@jupyter-widgets/controls",
          "model_name": "ToggleButtonModel",
          "model_module_version": "1.5.0",
          "state": {
            "_dom_classes": [],
            "_model_module": "@jupyter-widgets/controls",
            "_model_module_version": "1.5.0",
            "_model_name": "ToggleButtonModel",
            "_view_count": null,
            "_view_module": "@jupyter-widgets/controls",
            "_view_module_version": "1.5.0",
            "_view_name": "ToggleButtonView",
            "button_style": "",
            "description": "2",
            "description_tooltip": null,
            "disabled": false,
            "icon": "",
            "layout": "IPY_MODEL_7904d1e7fbe445478a2ae7a95efc593d",
            "style": "IPY_MODEL_c7c983da54354b27857ec71d187f67e6",
            "tooltip": "",
            "value": true
          }
        },
        "e190ea4acf0d454fab03e26eacfdedea": {
          "model_module": "@jupyter-widgets/controls",
          "model_name": "ToggleButtonModel",
          "model_module_version": "1.5.0",
          "state": {
            "_dom_classes": [],
            "_model_module": "@jupyter-widgets/controls",
            "_model_module_version": "1.5.0",
            "_model_name": "ToggleButtonModel",
            "_view_count": null,
            "_view_module": "@jupyter-widgets/controls",
            "_view_module_version": "1.5.0",
            "_view_name": "ToggleButtonView",
            "button_style": "",
            "description": "1",
            "description_tooltip": null,
            "disabled": false,
            "icon": "",
            "layout": "IPY_MODEL_9c0a659c77e14872b07c8353326d6b50",
            "style": "IPY_MODEL_57081c0d881e45eaacd16373346ef1e5",
            "tooltip": "",
            "value": true
          }
        },
        "d1e531ea16884858af1c1d4fae6ced62": {
          "model_module": "@jupyter-widgets/base",
          "model_name": "LayoutModel",
          "model_module_version": "1.2.0",
          "state": {
            "_model_module": "@jupyter-widgets/base",
            "_model_module_version": "1.2.0",
            "_model_name": "LayoutModel",
            "_view_count": null,
            "_view_module": "@jupyter-widgets/base",
            "_view_module_version": "1.2.0",
            "_view_name": "LayoutView",
            "align_content": null,
            "align_items": null,
            "align_self": null,
            "border": null,
            "bottom": null,
            "display": null,
            "flex": null,
            "flex_flow": null,
            "grid_area": null,
            "grid_auto_columns": null,
            "grid_auto_flow": null,
            "grid_auto_rows": null,
            "grid_column": null,
            "grid_gap": null,
            "grid_row": null,
            "grid_template_areas": null,
            "grid_template_columns": null,
            "grid_template_rows": null,
            "height": null,
            "justify_content": null,
            "justify_items": null,
            "left": null,
            "margin": null,
            "max_height": null,
            "max_width": null,
            "min_height": null,
            "min_width": null,
            "object_fit": null,
            "object_position": null,
            "order": null,
            "overflow": null,
            "overflow_x": null,
            "overflow_y": null,
            "padding": null,
            "right": null,
            "top": null,
            "visibility": null,
            "width": null
          }
        },
        "a693c5e363754cca988eddf161a6dada": {
          "model_module": "@jupyter-widgets/base",
          "model_name": "LayoutModel",
          "model_module_version": "1.2.0",
          "state": {
            "_model_module": "@jupyter-widgets/base",
            "_model_module_version": "1.2.0",
            "_model_name": "LayoutModel",
            "_view_count": null,
            "_view_module": "@jupyter-widgets/base",
            "_view_module_version": "1.2.0",
            "_view_name": "LayoutView",
            "align_content": null,
            "align_items": null,
            "align_self": null,
            "border": null,
            "bottom": null,
            "display": null,
            "flex": null,
            "flex_flow": null,
            "grid_area": null,
            "grid_auto_columns": null,
            "grid_auto_flow": null,
            "grid_auto_rows": null,
            "grid_column": null,
            "grid_gap": null,
            "grid_row": null,
            "grid_template_areas": null,
            "grid_template_columns": null,
            "grid_template_rows": null,
            "height": "3em",
            "justify_content": null,
            "justify_items": null,
            "left": null,
            "margin": null,
            "max_height": null,
            "max_width": null,
            "min_height": null,
            "min_width": null,
            "object_fit": null,
            "object_position": null,
            "order": null,
            "overflow": null,
            "overflow_x": null,
            "overflow_y": null,
            "padding": null,
            "right": null,
            "top": null,
            "visibility": null,
            "width": "3em"
          }
        },
        "5740731365994b8691f964bf4c7f0f41": {
          "model_module": "@jupyter-widgets/controls",
          "model_name": "DescriptionStyleModel",
          "model_module_version": "1.5.0",
          "state": {
            "_model_module": "@jupyter-widgets/controls",
            "_model_module_version": "1.5.0",
            "_model_name": "DescriptionStyleModel",
            "_view_count": null,
            "_view_module": "@jupyter-widgets/base",
            "_view_module_version": "1.2.0",
            "_view_name": "StyleView",
            "description_width": ""
          }
        },
        "de012241c5c640e7b9649c3d6ed6cf29": {
          "model_module": "@jupyter-widgets/base",
          "model_name": "LayoutModel",
          "model_module_version": "1.2.0",
          "state": {
            "_model_module": "@jupyter-widgets/base",
            "_model_module_version": "1.2.0",
            "_model_name": "LayoutModel",
            "_view_count": null,
            "_view_module": "@jupyter-widgets/base",
            "_view_module_version": "1.2.0",
            "_view_name": "LayoutView",
            "align_content": null,
            "align_items": null,
            "align_self": null,
            "border": null,
            "bottom": null,
            "display": null,
            "flex": null,
            "flex_flow": null,
            "grid_area": null,
            "grid_auto_columns": null,
            "grid_auto_flow": null,
            "grid_auto_rows": null,
            "grid_column": null,
            "grid_gap": null,
            "grid_row": null,
            "grid_template_areas": null,
            "grid_template_columns": null,
            "grid_template_rows": null,
            "height": "3em",
            "justify_content": null,
            "justify_items": null,
            "left": null,
            "margin": null,
            "max_height": null,
            "max_width": null,
            "min_height": null,
            "min_width": null,
            "object_fit": null,
            "object_position": null,
            "order": null,
            "overflow": null,
            "overflow_x": null,
            "overflow_y": null,
            "padding": null,
            "right": null,
            "top": null,
            "visibility": null,
            "width": "3em"
          }
        },
        "1a73abffd83947a98c32cd78f2376f5c": {
          "model_module": "@jupyter-widgets/controls",
          "model_name": "DescriptionStyleModel",
          "model_module_version": "1.5.0",
          "state": {
            "_model_module": "@jupyter-widgets/controls",
            "_model_module_version": "1.5.0",
            "_model_name": "DescriptionStyleModel",
            "_view_count": null,
            "_view_module": "@jupyter-widgets/base",
            "_view_module_version": "1.2.0",
            "_view_name": "StyleView",
            "description_width": ""
          }
        },
        "01002be9d31e474ba6a8a2c77f666877": {
          "model_module": "@jupyter-widgets/base",
          "model_name": "LayoutModel",
          "model_module_version": "1.2.0",
          "state": {
            "_model_module": "@jupyter-widgets/base",
            "_model_module_version": "1.2.0",
            "_model_name": "LayoutModel",
            "_view_count": null,
            "_view_module": "@jupyter-widgets/base",
            "_view_module_version": "1.2.0",
            "_view_name": "LayoutView",
            "align_content": null,
            "align_items": null,
            "align_self": null,
            "border": null,
            "bottom": null,
            "display": null,
            "flex": null,
            "flex_flow": null,
            "grid_area": null,
            "grid_auto_columns": null,
            "grid_auto_flow": null,
            "grid_auto_rows": null,
            "grid_column": null,
            "grid_gap": null,
            "grid_row": null,
            "grid_template_areas": null,
            "grid_template_columns": null,
            "grid_template_rows": null,
            "height": "3em",
            "justify_content": null,
            "justify_items": null,
            "left": null,
            "margin": null,
            "max_height": null,
            "max_width": null,
            "min_height": null,
            "min_width": null,
            "object_fit": null,
            "object_position": null,
            "order": null,
            "overflow": null,
            "overflow_x": null,
            "overflow_y": null,
            "padding": null,
            "right": null,
            "top": null,
            "visibility": null,
            "width": "3em"
          }
        },
        "c2ee5393173c455e8d64815475374492": {
          "model_module": "@jupyter-widgets/controls",
          "model_name": "DescriptionStyleModel",
          "model_module_version": "1.5.0",
          "state": {
            "_model_module": "@jupyter-widgets/controls",
            "_model_module_version": "1.5.0",
            "_model_name": "DescriptionStyleModel",
            "_view_count": null,
            "_view_module": "@jupyter-widgets/base",
            "_view_module_version": "1.2.0",
            "_view_name": "StyleView",
            "description_width": ""
          }
        },
        "7904d1e7fbe445478a2ae7a95efc593d": {
          "model_module": "@jupyter-widgets/base",
          "model_name": "LayoutModel",
          "model_module_version": "1.2.0",
          "state": {
            "_model_module": "@jupyter-widgets/base",
            "_model_module_version": "1.2.0",
            "_model_name": "LayoutModel",
            "_view_count": null,
            "_view_module": "@jupyter-widgets/base",
            "_view_module_version": "1.2.0",
            "_view_name": "LayoutView",
            "align_content": null,
            "align_items": null,
            "align_self": null,
            "border": null,
            "bottom": null,
            "display": null,
            "flex": null,
            "flex_flow": null,
            "grid_area": null,
            "grid_auto_columns": null,
            "grid_auto_flow": null,
            "grid_auto_rows": null,
            "grid_column": null,
            "grid_gap": null,
            "grid_row": null,
            "grid_template_areas": null,
            "grid_template_columns": null,
            "grid_template_rows": null,
            "height": "3em",
            "justify_content": null,
            "justify_items": null,
            "left": null,
            "margin": null,
            "max_height": null,
            "max_width": null,
            "min_height": null,
            "min_width": null,
            "object_fit": null,
            "object_position": null,
            "order": null,
            "overflow": null,
            "overflow_x": null,
            "overflow_y": null,
            "padding": null,
            "right": null,
            "top": null,
            "visibility": null,
            "width": "3em"
          }
        },
        "c7c983da54354b27857ec71d187f67e6": {
          "model_module": "@jupyter-widgets/controls",
          "model_name": "DescriptionStyleModel",
          "model_module_version": "1.5.0",
          "state": {
            "_model_module": "@jupyter-widgets/controls",
            "_model_module_version": "1.5.0",
            "_model_name": "DescriptionStyleModel",
            "_view_count": null,
            "_view_module": "@jupyter-widgets/base",
            "_view_module_version": "1.2.0",
            "_view_name": "StyleView",
            "description_width": ""
          }
        },
        "9c0a659c77e14872b07c8353326d6b50": {
          "model_module": "@jupyter-widgets/base",
          "model_name": "LayoutModel",
          "model_module_version": "1.2.0",
          "state": {
            "_model_module": "@jupyter-widgets/base",
            "_model_module_version": "1.2.0",
            "_model_name": "LayoutModel",
            "_view_count": null,
            "_view_module": "@jupyter-widgets/base",
            "_view_module_version": "1.2.0",
            "_view_name": "LayoutView",
            "align_content": null,
            "align_items": null,
            "align_self": null,
            "border": null,
            "bottom": null,
            "display": null,
            "flex": null,
            "flex_flow": null,
            "grid_area": null,
            "grid_auto_columns": null,
            "grid_auto_flow": null,
            "grid_auto_rows": null,
            "grid_column": null,
            "grid_gap": null,
            "grid_row": null,
            "grid_template_areas": null,
            "grid_template_columns": null,
            "grid_template_rows": null,
            "height": "3em",
            "justify_content": null,
            "justify_items": null,
            "left": null,
            "margin": null,
            "max_height": null,
            "max_width": null,
            "min_height": null,
            "min_width": null,
            "object_fit": null,
            "object_position": null,
            "order": null,
            "overflow": null,
            "overflow_x": null,
            "overflow_y": null,
            "padding": null,
            "right": null,
            "top": null,
            "visibility": null,
            "width": "3em"
          }
        },
        "57081c0d881e45eaacd16373346ef1e5": {
          "model_module": "@jupyter-widgets/controls",
          "model_name": "DescriptionStyleModel",
          "model_module_version": "1.5.0",
          "state": {
            "_model_module": "@jupyter-widgets/controls",
            "_model_module_version": "1.5.0",
            "_model_name": "DescriptionStyleModel",
            "_view_count": null,
            "_view_module": "@jupyter-widgets/base",
            "_view_module_version": "1.2.0",
            "_view_name": "StyleView",
            "description_width": ""
          }
        },
        "535e533001a2467189ea7683af960bcd": {
          "model_module": "@jupyter-widgets/controls",
          "model_name": "HTMLModel",
          "model_module_version": "1.5.0",
          "state": {
            "_dom_classes": [],
            "_model_module": "@jupyter-widgets/controls",
            "_model_module_version": "1.5.0",
            "_model_name": "HTMLModel",
            "_view_count": null,
            "_view_module": "@jupyter-widgets/controls",
            "_view_module_version": "1.5.0",
            "_view_name": "HTMLView",
            "description": "",
            "description_tooltip": null,
            "layout": "IPY_MODEL_7ac5b88ad9bf490ea0901cf4495a8173",
            "placeholder": "​",
            "style": "IPY_MODEL_3abb43a84d28423696fb150c2894cfba",
            "value": "<pre>Binary   Decimal\n 01011 = 11</pre>"
          }
        },
        "7ac5b88ad9bf490ea0901cf4495a8173": {
          "model_module": "@jupyter-widgets/base",
          "model_name": "LayoutModel",
          "model_module_version": "1.2.0",
          "state": {
            "_model_module": "@jupyter-widgets/base",
            "_model_module_version": "1.2.0",
            "_model_name": "LayoutModel",
            "_view_count": null,
            "_view_module": "@jupyter-widgets/base",
            "_view_module_version": "1.2.0",
            "_view_name": "LayoutView",
            "align_content": null,
            "align_items": null,
            "align_self": null,
            "border": null,
            "bottom": null,
            "display": null,
            "flex": null,
            "flex_flow": null,
            "grid_area": null,
            "grid_auto_columns": null,
            "grid_auto_flow": null,
            "grid_auto_rows": null,
            "grid_column": null,
            "grid_gap": null,
            "grid_row": null,
            "grid_template_areas": null,
            "grid_template_columns": null,
            "grid_template_rows": null,
            "height": null,
            "justify_content": null,
            "justify_items": null,
            "left": null,
            "margin": null,
            "max_height": null,
            "max_width": null,
            "min_height": null,
            "min_width": null,
            "object_fit": null,
            "object_position": null,
            "order": null,
            "overflow": null,
            "overflow_x": null,
            "overflow_y": null,
            "padding": null,
            "right": null,
            "top": null,
            "visibility": null,
            "width": null
          }
        },
        "3abb43a84d28423696fb150c2894cfba": {
          "model_module": "@jupyter-widgets/controls",
          "model_name": "DescriptionStyleModel",
          "model_module_version": "1.5.0",
          "state": {
            "_model_module": "@jupyter-widgets/controls",
            "_model_module_version": "1.5.0",
            "_model_name": "DescriptionStyleModel",
            "_view_count": null,
            "_view_module": "@jupyter-widgets/base",
            "_view_module_version": "1.2.0",
            "_view_name": "StyleView",
            "description_width": ""
          }
        }
      }
    }
  },
  "cells": [
    {
      "cell_type": "markdown",
      "source": [
        "# **Introduction**\n",
        "\n",
        "In this section, I explore the basic building blocks of a quantum program. I have used [this](https://qiskit.org/textbook/ch-states/introduction.html) website as a reference. "
      ],
      "metadata": {
        "id": "tFUQJXsEHmT_"
      }
    },
    {
      "cell_type": "code",
      "source": [
        "!pip install qiskit"
      ],
      "metadata": {
        "id": "Jvn8VSRmIsIZ"
      },
      "execution_count": null,
      "outputs": []
    },
    {
      "cell_type": "code",
      "source": [
        "!pip install git+https://github.com/qiskit-community/qiskit-textbook.git#subdirectory=qiskit-textbook-src"
      ],
      "metadata": {
        "id": "3W-spcI0I6PP"
      },
      "execution_count": null,
      "outputs": []
    },
    {
      "cell_type": "markdown",
      "source": [
        "# **Importing libraries**"
      ],
      "metadata": {
        "id": "41nKKppNIDMB"
      }
    },
    {
      "cell_type": "code",
      "source": [
        "import qiskit.tools.jupyter\n",
        "from qiskit_textbook.widgets import binary_widget\n",
        "from qiskit import QuantumCircuit, assemble, Aer\n",
        "from qiskit.visualization import plot_histogram, plot_bloch_vector\n",
        "from math import sqrt, pi\n"
      ],
      "metadata": {
        "id": "DEZgBLI7IUTw"
      },
      "execution_count": null,
      "outputs": []
    },
    {
      "cell_type": "markdown",
      "source": [
        "Splitting information into bits"
      ],
      "metadata": {
        "id": "68SUcsi5NXe0"
      }
    },
    {
      "cell_type": "code",
      "source": [
        "binary_widget(nbits=5)\n"
      ],
      "metadata": {
        "colab": {
          "base_uri": "https://localhost:8080/",
          "height": 184,
          "referenced_widgets": [
            "5ae4dbdb8b3242e9865e03dd28ac3202",
            "59d615cfab0d44ba98e3d703e15af16f",
            "df93bdc4551e43bab5fbe43079a588a9",
            "5b7b7c6341cd487c9160ee21f9d4183e",
            "67112868e75345d4a8ca73659b120d13",
            "fa0b04d12f8a47e294bca083b08db059",
            "9c9f7584f3174a288a1eecd1299e8fbc",
            "7264310e1f6b49cc88e35ad4f7e809b4",
            "afa5e93b6a4a4710ba3bf61dae4792d8",
            "0b38b1af357a4393a5ea545be6ddf759",
            "aec56530e04243a7a18f0df07cdff9d6",
            "308b9a292eee4f2fbf1924ed3690f1a2",
            "c917c3431d7e4d1e962b13ff326f89bc",
            "e190ea4acf0d454fab03e26eacfdedea",
            "d1e531ea16884858af1c1d4fae6ced62",
            "a693c5e363754cca988eddf161a6dada",
            "5740731365994b8691f964bf4c7f0f41",
            "de012241c5c640e7b9649c3d6ed6cf29",
            "1a73abffd83947a98c32cd78f2376f5c",
            "01002be9d31e474ba6a8a2c77f666877",
            "c2ee5393173c455e8d64815475374492",
            "7904d1e7fbe445478a2ae7a95efc593d",
            "c7c983da54354b27857ec71d187f67e6",
            "9c0a659c77e14872b07c8353326d6b50",
            "57081c0d881e45eaacd16373346ef1e5",
            "535e533001a2467189ea7683af960bcd",
            "7ac5b88ad9bf490ea0901cf4495a8173",
            "3abb43a84d28423696fb150c2894cfba"
          ]
        },
        "id": "krYMnKBRIZIC",
        "outputId": "c48b3bb2-eea8-4aa5-b636-66df8fe62678"
      },
      "execution_count": null,
      "outputs": [
        {
          "output_type": "display_data",
          "data": {
            "text/plain": [
              "VBox(children=(Label(value='Toggle the bits below to change the binary number.'), Label(value='Think of a numb…"
            ],
            "application/vnd.jupyter.widget-view+json": {
              "version_major": 2,
              "version_minor": 0,
              "model_id": "5ae4dbdb8b3242e9865e03dd28ac3202"
            }
          },
          "metadata": {}
        },
        {
          "output_type": "display_data",
          "data": {
            "text/plain": [
              "HTML(value='<pre>Binary   Decimal\\n 00000 = 0</pre>')"
            ],
            "application/vnd.jupyter.widget-view+json": {
              "version_major": 2,
              "version_minor": 0,
              "model_id": "535e533001a2467189ea7683af960bcd"
            }
          },
          "metadata": {}
        }
      ]
    },
    {
      "cell_type": "markdown",
      "source": [
        "Now, we will build our first quantum circuit"
      ],
      "metadata": {
        "id": "2Bi143BhJOn_"
      }
    },
    {
      "cell_type": "code",
      "source": [
        "qc_output = QuantumCircuit(8)\n",
        "qc_output.measure_all()\n",
        "qc_output.draw(initial_state=True) \n"
      ],
      "metadata": {
        "colab": {
          "base_uri": "https://localhost:8080/",
          "height": 310
        },
        "id": "ZI6drVe_JBck",
        "outputId": "6bae240a-9f60-4e43-a74c-7905a86969db"
      },
      "execution_count": null,
      "outputs": [
        {
          "output_type": "execute_result",
          "data": {
            "text/plain": [
              "           ░ ┌─┐                     \n",
              "  q_0: |0>─░─┤M├─────────────────────\n",
              "           ░ └╥┘┌─┐                  \n",
              "  q_1: |0>─░──╫─┤M├──────────────────\n",
              "           ░  ║ └╥┘┌─┐               \n",
              "  q_2: |0>─░──╫──╫─┤M├───────────────\n",
              "           ░  ║  ║ └╥┘┌─┐            \n",
              "  q_3: |0>─░──╫──╫──╫─┤M├────────────\n",
              "           ░  ║  ║  ║ └╥┘┌─┐         \n",
              "  q_4: |0>─░──╫──╫──╫──╫─┤M├─────────\n",
              "           ░  ║  ║  ║  ║ └╥┘┌─┐      \n",
              "  q_5: |0>─░──╫──╫──╫──╫──╫─┤M├──────\n",
              "           ░  ║  ║  ║  ║  ║ └╥┘┌─┐   \n",
              "  q_6: |0>─░──╫──╫──╫──╫──╫──╫─┤M├───\n",
              "           ░  ║  ║  ║  ║  ║  ║ └╥┘┌─┐\n",
              "  q_7: |0>─░──╫──╫──╫──╫──╫──╫──╫─┤M├\n",
              "           ░  ║  ║  ║  ║  ║  ║  ║ └╥┘\n",
              "meas: 0 8/════╩══╩══╩══╩══╩══╩══╩══╩═\n",
              "              0  1  2  3  4  5  6  7 "
            ],
            "text/html": [
              "<pre style=\"word-wrap: normal;white-space: pre;background: #fff0;line-height: 1.1;font-family: &quot;Courier New&quot;,Courier,monospace\">           ░ ┌─┐                     \n",
              "  q_0: |0>─░─┤M├─────────────────────\n",
              "           ░ └╥┘┌─┐                  \n",
              "  q_1: |0>─░──╫─┤M├──────────────────\n",
              "           ░  ║ └╥┘┌─┐               \n",
              "  q_2: |0>─░──╫──╫─┤M├───────────────\n",
              "           ░  ║  ║ └╥┘┌─┐            \n",
              "  q_3: |0>─░──╫──╫──╫─┤M├────────────\n",
              "           ░  ║  ║  ║ └╥┘┌─┐         \n",
              "  q_4: |0>─░──╫──╫──╫──╫─┤M├─────────\n",
              "           ░  ║  ║  ║  ║ └╥┘┌─┐      \n",
              "  q_5: |0>─░──╫──╫──╫──╫──╫─┤M├──────\n",
              "           ░  ║  ║  ║  ║  ║ └╥┘┌─┐   \n",
              "  q_6: |0>─░──╫──╫──╫──╫──╫──╫─┤M├───\n",
              "           ░  ║  ║  ║  ║  ║  ║ └╥┘┌─┐\n",
              "  q_7: |0>─░──╫──╫──╫──╫──╫──╫──╫─┤M├\n",
              "           ░  ║  ║  ║  ║  ║  ║  ║ └╥┘\n",
              "meas: 0 8/════╩══╩══╩══╩══╩══╩══╩══╩═\n",
              "              0  1  2  3  4  5  6  7 </pre>"
            ]
          },
          "metadata": {},
          "execution_count": 6
        }
      ]
    },
    {
      "cell_type": "markdown",
      "source": [
        "The following code plots a histogram for the different outputs observed for this quantum circuit"
      ],
      "metadata": {
        "id": "RHqkKg_aJtoA"
      }
    },
    {
      "cell_type": "code",
      "source": [
        "sim = Aer.get_backend('aer_simulator') \n",
        "result = sim.run(qc_output).result()\n",
        "counts = result.get_counts()\n",
        "plot_histogram(counts)\n"
      ],
      "metadata": {
        "colab": {
          "base_uri": "https://localhost:8080/",
          "height": 380
        },
        "id": "CSTVvJfkJd0f",
        "outputId": "75f3a7c3-a6ef-4302-96c6-2cafacdd3253"
      },
      "execution_count": null,
      "outputs": [
        {
          "output_type": "execute_result",
          "data": {
            "text/plain": [
              "<Figure size 504x360 with 1 Axes>"
            ],
            "image/png": "[encoded data removed]"
          },
          "metadata": {},
          "execution_count": 7
        }
      ]
    },
    {
      "cell_type": "markdown",
      "source": [
        "Now, we alter only one the last qubit using a NOT gate"
      ],
      "metadata": {
        "id": "b9Fj60lIJ95A"
      }
    },
    {
      "cell_type": "code",
      "source": [
        "qc_encode = QuantumCircuit(8)\n",
        "qc_encode.x(7)\n",
        "qc_encode.draw()\n"
      ],
      "metadata": {
        "colab": {
          "base_uri": "https://localhost:8080/",
          "height": 279
        },
        "id": "T4hr7oMSJol4",
        "outputId": "f448e05f-e465-4118-dbb9-5863da99b655"
      },
      "execution_count": null,
      "outputs": [
        {
          "output_type": "execute_result",
          "data": {
            "text/plain": [
              "          \n",
              "q_0: ─────\n",
              "          \n",
              "q_1: ─────\n",
              "          \n",
              "q_2: ─────\n",
              "          \n",
              "q_3: ─────\n",
              "          \n",
              "q_4: ─────\n",
              "          \n",
              "q_5: ─────\n",
              "          \n",
              "q_6: ─────\n",
              "     ┌───┐\n",
              "q_7: ┤ X ├\n",
              "     └───┘"
            ],
            "text/html": [
              "<pre style=\"word-wrap: normal;white-space: pre;background: #fff0;line-height: 1.1;font-family: &quot;Courier New&quot;,Courier,monospace\">          \n",
              "q_0: ─────\n",
              "          \n",
              "q_1: ─────\n",
              "          \n",
              "q_2: ─────\n",
              "          \n",
              "q_3: ─────\n",
              "          \n",
              "q_4: ─────\n",
              "          \n",
              "q_5: ─────\n",
              "          \n",
              "q_6: ─────\n",
              "     ┌───┐\n",
              "q_7: ┤ X ├\n",
              "     └───┘</pre>"
            ]
          },
          "metadata": {},
          "execution_count": 8
        }
      ]
    },
    {
      "cell_type": "code",
      "source": [
        "qc_encode.measure_all()\n",
        "qc_encode.draw()\n"
      ],
      "metadata": {
        "colab": {
          "base_uri": "https://localhost:8080/",
          "height": 310
        },
        "id": "qzfxR2isKDwb",
        "outputId": "f73e8343-3da8-4420-b051-3cabcc193c54"
      },
      "execution_count": null,
      "outputs": [
        {
          "output_type": "execute_result",
          "data": {
            "text/plain": [
              "              ░ ┌─┐                     \n",
              "   q_0: ──────░─┤M├─────────────────────\n",
              "              ░ └╥┘┌─┐                  \n",
              "   q_1: ──────░──╫─┤M├──────────────────\n",
              "              ░  ║ └╥┘┌─┐               \n",
              "   q_2: ──────░──╫──╫─┤M├───────────────\n",
              "              ░  ║  ║ └╥┘┌─┐            \n",
              "   q_3: ──────░──╫──╫──╫─┤M├────────────\n",
              "              ░  ║  ║  ║ └╥┘┌─┐         \n",
              "   q_4: ──────░──╫──╫──╫──╫─┤M├─────────\n",
              "              ░  ║  ║  ║  ║ └╥┘┌─┐      \n",
              "   q_5: ──────░──╫──╫──╫──╫──╫─┤M├──────\n",
              "              ░  ║  ║  ║  ║  ║ └╥┘┌─┐   \n",
              "   q_6: ──────░──╫──╫──╫──╫──╫──╫─┤M├───\n",
              "        ┌───┐ ░  ║  ║  ║  ║  ║  ║ └╥┘┌─┐\n",
              "   q_7: ┤ X ├─░──╫──╫──╫──╫──╫──╫──╫─┤M├\n",
              "        └───┘ ░  ║  ║  ║  ║  ║  ║  ║ └╥┘\n",
              "meas: 8/═════════╩══╩══╩══╩══╩══╩══╩══╩═\n",
              "                 0  1  2  3  4  5  6  7 "
            ],
            "text/html": [
              "<pre style=\"word-wrap: normal;white-space: pre;background: #fff0;line-height: 1.1;font-family: &quot;Courier New&quot;,Courier,monospace\">              ░ ┌─┐                     \n",
              "   q_0: ──────░─┤M├─────────────────────\n",
              "              ░ └╥┘┌─┐                  \n",
              "   q_1: ──────░──╫─┤M├──────────────────\n",
              "              ░  ║ └╥┘┌─┐               \n",
              "   q_2: ──────░──╫──╫─┤M├───────────────\n",
              "              ░  ║  ║ └╥┘┌─┐            \n",
              "   q_3: ──────░──╫──╫──╫─┤M├────────────\n",
              "              ░  ║  ║  ║ └╥┘┌─┐         \n",
              "   q_4: ──────░──╫──╫──╫──╫─┤M├─────────\n",
              "              ░  ║  ║  ║  ║ └╥┘┌─┐      \n",
              "   q_5: ──────░──╫──╫──╫──╫──╫─┤M├──────\n",
              "              ░  ║  ║  ║  ║  ║ └╥┘┌─┐   \n",
              "   q_6: ──────░──╫──╫──╫──╫──╫──╫─┤M├───\n",
              "        ┌───┐ ░  ║  ║  ║  ║  ║  ║ └╥┘┌─┐\n",
              "   q_7: ┤ X ├─░──╫──╫──╫──╫──╫──╫──╫─┤M├\n",
              "        └───┘ ░  ║  ║  ║  ║  ║  ║  ║ └╥┘\n",
              "meas: 8/═════════╩══╩══╩══╩══╩══╩══╩══╩═\n",
              "                 0  1  2  3  4  5  6  7 </pre>"
            ]
          },
          "metadata": {},
          "execution_count": 9
        }
      ]
    },
    {
      "cell_type": "markdown",
      "source": [
        "Again, measuring the frequencies of different outcomes"
      ],
      "metadata": {
        "id": "qHEUYk6vKMbW"
      }
    },
    {
      "cell_type": "code",
      "source": [
        "sim = Aer.get_backend('aer_simulator') \n",
        "result = sim.run(qc_encode).result()\n",
        "counts = result.get_counts()\n",
        "plot_histogram(counts)\n"
      ],
      "metadata": {
        "colab": {
          "base_uri": "https://localhost:8080/",
          "height": 380
        },
        "id": "_AogY51HKHUh",
        "outputId": "cd44588e-72d1-48c7-d4e8-03b7919b032a"
      },
      "execution_count": null,
      "outputs": [
        {
          "output_type": "execute_result",
          "data": {
            "text/plain": [
              "<Figure size 504x360 with 1 Axes>"
            ],
            "image/png": "[encoded data removed]"
          },
          "metadata": {},
          "execution_count": 10
        }
      ]
    },
    {
      "cell_type": "markdown",
      "source": [
        "# CNOT"
      ],
      "metadata": {
        "id": "uoUZPgIsKsl-"
      }
    },
    {
      "cell_type": "code",
      "source": [
        "qc_cnot = QuantumCircuit(2)\n",
        "qc_cnot.cx(0,1)\n",
        "qc_cnot.draw()\n"
      ],
      "metadata": {
        "colab": {
          "base_uri": "https://localhost:8080/",
          "height": 94
        },
        "id": "cF2JkqCfKQFg",
        "outputId": "1932c4ed-2b02-4d3d-eec2-0de97ec71179"
      },
      "execution_count": null,
      "outputs": [
        {
          "output_type": "execute_result",
          "data": {
            "text/plain": [
              "          \n",
              "q_0: ──■──\n",
              "     ┌─┴─┐\n",
              "q_1: ┤ X ├\n",
              "     └───┘"
            ],
            "text/html": [
              "<pre style=\"word-wrap: normal;white-space: pre;background: #fff0;line-height: 1.1;font-family: &quot;Courier New&quot;,Courier,monospace\">          \n",
              "q_0: ──■──\n",
              "     ┌─┴─┐\n",
              "q_1: ┤ X ├\n",
              "     └───┘</pre>"
            ]
          },
          "metadata": {},
          "execution_count": 11
        }
      ]
    },
    {
      "cell_type": "code",
      "source": [
        "qc = QuantumCircuit(2,2)\n",
        "qc.x(0)\n",
        "qc.cx(0,1)\n",
        "qc.measure(0,0)\n",
        "qc.measure(1,1)\n",
        "qc.draw()\n"
      ],
      "metadata": {
        "colab": {
          "base_uri": "https://localhost:8080/",
          "height": 125
        },
        "id": "VQIU1ZQvKv4C",
        "outputId": "09f53339-dad1-4edb-bcc9-1126a3325ecb"
      },
      "execution_count": null,
      "outputs": [
        {
          "output_type": "execute_result",
          "data": {
            "text/plain": [
              "     ┌───┐     ┌─┐   \n",
              "q_0: ┤ X ├──■──┤M├───\n",
              "     └───┘┌─┴─┐└╥┘┌─┐\n",
              "q_1: ─────┤ X ├─╫─┤M├\n",
              "          └───┘ ║ └╥┘\n",
              "c: 2/═══════════╩══╩═\n",
              "                0  1 "
            ],
            "text/html": [
              "<pre style=\"word-wrap: normal;white-space: pre;background: #fff0;line-height: 1.1;font-family: &quot;Courier New&quot;,Courier,monospace\">     ┌───┐     ┌─┐   \n",
              "q_0: ┤ X ├──■──┤M├───\n",
              "     └───┘┌─┴─┐└╥┘┌─┐\n",
              "q_1: ─────┤ X ├─╫─┤M├\n",
              "          └───┘ ║ └╥┘\n",
              "c: 2/═══════════╩══╩═\n",
              "                0  1 </pre>"
            ]
          },
          "metadata": {},
          "execution_count": 15
        }
      ]
    },
    {
      "cell_type": "markdown",
      "source": [
        "# Half-Adder"
      ],
      "metadata": {
        "id": "CwvqI_rkLdQt"
      }
    },
    {
      "cell_type": "code",
      "source": [
        "qc_ha = QuantumCircuit(4,2)\n",
        "# encode inputs in qubits 0 and 1\n",
        "qc_ha.x(0) # For a=0, remove the this line. For a=1, leave it.\n",
        "qc_ha.x(1) # For b=0, remove the this line. For b=1, leave it.\n",
        "qc_ha.barrier()\n",
        "# use cnots to write the XOR of the inputs on qubit 2\n",
        "qc_ha.cx(0,2)\n",
        "qc_ha.cx(1,2)\n",
        "# use ccx to write the AND of the inputs on qubit 3\n",
        "qc_ha.ccx(0,1,3)\n",
        "qc_ha.barrier()\n",
        "# extract outputs\n",
        "qc_ha.measure(2,0) # extract XOR value\n",
        "qc_ha.measure(3,1) # extract AND value\n",
        "\n",
        "qc_ha.draw()\n"
      ],
      "metadata": {
        "colab": {
          "base_uri": "https://localhost:8080/",
          "height": 186
        },
        "id": "uCtMjK3BLBUV",
        "outputId": "00bb038e-f592-4391-a195-31d2f67f1441"
      },
      "execution_count": null,
      "outputs": [
        {
          "output_type": "execute_result",
          "data": {
            "text/plain": [
              "     ┌───┐ ░                 ░       \n",
              "q_0: ┤ X ├─░───■─────────■───░───────\n",
              "     ├───┤ ░   │         │   ░       \n",
              "q_1: ┤ X ├─░───┼────■────■───░───────\n",
              "     └───┘ ░ ┌─┴─┐┌─┴─┐  │   ░ ┌─┐   \n",
              "q_2: ──────░─┤ X ├┤ X ├──┼───░─┤M├───\n",
              "           ░ └───┘└───┘┌─┴─┐ ░ └╥┘┌─┐\n",
              "q_3: ──────░───────────┤ X ├─░──╫─┤M├\n",
              "           ░           └───┘ ░  ║ └╥┘\n",
              "c: 2/═══════════════════════════╩══╩═\n",
              "                                0  1 "
            ],
            "text/html": [
              "<pre style=\"word-wrap: normal;white-space: pre;background: #fff0;line-height: 1.1;font-family: &quot;Courier New&quot;,Courier,monospace\">     ┌───┐ ░                 ░       \n",
              "q_0: ┤ X ├─░───■─────────■───░───────\n",
              "     ├───┤ ░   │         │   ░       \n",
              "q_1: ┤ X ├─░───┼────■────■───░───────\n",
              "     └───┘ ░ ┌─┴─┐┌─┴─┐  │   ░ ┌─┐   \n",
              "q_2: ──────░─┤ X ├┤ X ├──┼───░─┤M├───\n",
              "           ░ └───┘└───┘┌─┴─┐ ░ └╥┘┌─┐\n",
              "q_3: ──────░───────────┤ X ├─░──╫─┤M├\n",
              "           ░           └───┘ ░  ║ └╥┘\n",
              "c: 2/═══════════════════════════╩══╩═\n",
              "                                0  1 </pre>"
            ]
          },
          "metadata": {},
          "execution_count": 17
        }
      ]
    },
    {
      "cell_type": "markdown",
      "source": [
        "Now, let's calculate 1+1 (i.e. setting both input bits to 1)"
      ],
      "metadata": {
        "id": "AiOrf35DMaP0"
      }
    },
    {
      "cell_type": "code",
      "source": [
        "qobj = assemble(qc_ha)\n",
        "counts = sim.run(qobj).result().get_counts()\n",
        "plot_histogram(counts)\n"
      ],
      "metadata": {
        "colab": {
          "base_uri": "https://localhost:8080/",
          "height": 331
        },
        "id": "wXMHkaOwLf1D",
        "outputId": "7121203f-7903-4f69-9edd-42763795d082"
      },
      "execution_count": null,
      "outputs": [
        {
          "output_type": "execute_result",
          "data": {
            "text/plain": [
              "<Figure size 504x360 with 1 Axes>"
            ],
            "image/png": "[encoded data removed]"
          },
          "metadata": {},
          "execution_count": 18
        }
      ]
    },
    {
      "cell_type": "markdown",
      "source": [
        "Here is a simple version checking command for qiskit"
      ],
      "metadata": {
        "id": "ukuRW3S5Mxu-"
      }
    },
    {
      "cell_type": "code",
      "source": [
        "%qiskit_version_table\n"
      ],
      "metadata": {
        "colab": {
          "base_uri": "https://localhost:8080/",
          "height": 337
        },
        "id": "8OoCe6H0MgBV",
        "outputId": "cbecc14e-0b84-490a-84cc-2003fb29e7d5"
      },
      "execution_count": null,
      "outputs": [
        {
          "output_type": "display_data",
          "data": {
            "text/plain": [
              "<IPython.core.display.HTML object>"
            ],
            "text/html": [
              "<h3>Version Information</h3><table><tr><th>Qiskit Software</th><th>Version</th></tr><tr><td><code>qiskit-terra</code></td><td>0.22.3</td></tr><tr><td><code>qiskit-aer</code></td><td>0.11.2</td></tr><tr><td><code>qiskit-ibmq-provider</code></td><td>0.19.2</td></tr><tr><td><code>qiskit</code></td><td>0.39.4</td></tr><tr><th>System information</th></tr><tr><td>Python version</td><td>3.8.16</td></tr><tr><td>Python compiler</td><td>GCC 7.5.0</td></tr><tr><td>Python build</td><td>default, Dec  7 2022 01:12:13</td></tr><tr><td>OS</td><td>Linux</td></tr><tr><td>CPUs</td><td>1</td></tr><tr><td>Memory (Gb)</td><td>12.681224822998047</td></tr><tr><td colspan='2'>Fri Dec 30 13:23:13 2022 UTC</td></tr></table>"
            ]
          },
          "metadata": {}
        }
      ]
    },
    {
      "cell_type": "markdown",
      "source": [
        "# **Qubits**\n",
        "\n",
        "Here, we shall explore representation of single qubit states and the representation of quantum gates"
      ],
      "metadata": {
        "id": "CTj7fkQ3M_3p"
      }
    },
    {
      "cell_type": "code",
      "source": [
        "qc = QuantumCircuit(1)  # Create a quantum circuit with one qubit\n",
        "initial_state = [0,1]   # Define initial_state as |1>\n",
        "qc.initialize(initial_state, 0) # Apply initialisation operation to the 0th qubit\n",
        "qc.draw()  # Let's view our circuit\n"
      ],
      "metadata": {
        "colab": {
          "base_uri": "https://localhost:8080/",
          "height": 63
        },
        "id": "cgUk137qNfDV",
        "outputId": "5736f681-6e76-42d9-ae14-f9077bce1b19"
      },
      "execution_count": null,
      "outputs": [
        {
          "output_type": "execute_result",
          "data": {
            "text/plain": [
              "   ┌─────────────────┐\n",
              "q: ┤ Initialize(0,1) ├\n",
              "   └─────────────────┘"
            ],
            "text/html": [
              "<pre style=\"word-wrap: normal;white-space: pre;background: #fff0;line-height: 1.1;font-family: &quot;Courier New&quot;,Courier,monospace\">   ┌─────────────────┐\n",
              "q: ┤ Initialize(0,1) ├\n",
              "   └─────────────────┘</pre>"
            ]
          },
          "metadata": {},
          "execution_count": 21
        }
      ]
    },
    {
      "cell_type": "code",
      "source": [
        "sim = Aer.get_backend('aer_simulator')  # Tell Qiskit how to simulate our circuit\n"
      ],
      "metadata": {
        "id": "QCy2PXysNsqY"
      },
      "execution_count": null,
      "outputs": []
    },
    {
      "cell_type": "code",
      "source": [
        "qc = QuantumCircuit(1)  # Create a quantum circuit with one qubit\n",
        "initial_state = [0,1]   # Define initial_state as |1>\n",
        "qc.initialize(initial_state, 0) # Apply initialisation operation to the 0th qubit\n",
        "qc.save_statevector()   # Tell simulator to save statevector\n",
        "qobj = assemble(qc)     # Create a Qobj from the circuit for the simulator to run\n",
        "result = sim.run(qobj).result() # Do the simulation and return the result\n"
      ],
      "metadata": {
        "id": "ylVaj026N4jX"
      },
      "execution_count": null,
      "outputs": []
    },
    {
      "cell_type": "code",
      "source": [
        "out_state = result.get_statevector()\n",
        "print(out_state) # Display the output state vector\n"
      ],
      "metadata": {
        "colab": {
          "base_uri": "https://localhost:8080/"
        },
        "id": "ZuDmvaqdN6ep",
        "outputId": "b42b4d95-6f00-4f9a-dd7d-d6d074e516af"
      },
      "execution_count": null,
      "outputs": [
        {
          "output_type": "stream",
          "name": "stdout",
          "text": [
            "Statevector([0.+0.j, 1.+0.j],\n",
            "            dims=(2,))\n"
          ]
        }
      ]
    },
    {
      "cell_type": "code",
      "source": [
        "qc.measure_all()\n",
        "qc.draw()\n"
      ],
      "metadata": {
        "colab": {
          "base_uri": "https://localhost:8080/",
          "height": 94
        },
        "id": "wwBEac8cN_PC",
        "outputId": "bab06987-8a50-43a5-94fa-9cfaa7ece8be"
      },
      "execution_count": null,
      "outputs": [
        {
          "output_type": "execute_result",
          "data": {
            "text/plain": [
              "        ┌─────────────────┐ statevector  ░ ┌─┐\n",
              "     q: ┤ Initialize(0,1) ├──────░───────░─┤M├\n",
              "        └─────────────────┘      ░       ░ └╥┘\n",
              "meas: 1/════════════════════════════════════╩═\n",
              "                                            0 "
            ],
            "text/html": [
              "<pre style=\"word-wrap: normal;white-space: pre;background: #fff0;line-height: 1.1;font-family: &quot;Courier New&quot;,Courier,monospace\">        ┌─────────────────┐ statevector  ░ ┌─┐\n",
              "     q: ┤ Initialize(0,1) ├──────░───────░─┤M├\n",
              "        └─────────────────┘      ░       ░ └╥┘\n",
              "meas: 1/════════════════════════════════════╩═\n",
              "                                            0 </pre>"
            ]
          },
          "metadata": {},
          "execution_count": 25
        }
      ]
    },
    {
      "cell_type": "code",
      "source": [
        "qobj = assemble(qc)\n",
        "result = sim.run(qobj).result()\n",
        "counts = result.get_counts()\n",
        "plot_histogram(counts)\n"
      ],
      "metadata": {
        "colab": {
          "base_uri": "https://localhost:8080/",
          "height": 323
        },
        "id": "SfQ3u6HwODyI",
        "outputId": "e4e8a816-397c-45f8-bc67-6c91bae3c74f"
      },
      "execution_count": null,
      "outputs": [
        {
          "output_type": "execute_result",
          "data": {
            "text/plain": [
              "<Figure size 504x360 with 1 Axes>"
            ],
            "image/png": "[encoded data removed]"
          },
          "metadata": {},
          "execution_count": 26
        }
      ]
    }
  ]
}